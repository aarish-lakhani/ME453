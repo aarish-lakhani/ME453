{
 "cells": [
  {
   "cell_type": "code",
   "execution_count": 66,
   "metadata": {},
   "outputs": [],
   "source": [
    "# Package import\n",
    "import os\n",
    "import numpy as np\n",
    "import matplotlib.pyplot as plt\n",
    "import matplotlib.patches as mpatches\n",
    "from skimage import io\n",
    "from skimage.measure import regionprops\n",
    "from skimage import data\n",
    "from skimage.exposure import histogram\n",
    "from skimage.color import label2rgb\n",
    "from scipy import ndimage as ndi\n",
    "from scipy.signal import medfilt2d\n",
    "from skimage.filters import gaussian\n",
    "import pandas as pd\n",
    "\n",
    "\n",
    "# Plot parameter setting \n",
    "plt.style.use('default')\n",
    "plt.rcParams['axes.titlesize'] = 18\n",
    "plt.rcParams['axes.labelsize'] = 18\n",
    "plt.rcParams['font.family'] = 'Arial'\n",
    "plt.rcParams['mathtext.fontset'] = 'stix'\n",
    "plt.rcParams['figure.figsize'] = 8, 6\n",
    "plt.rcParams['figure.dpi'] = 100"
   ]
  },
  {
   "cell_type": "code",
   "execution_count": 184,
   "metadata": {},
   "outputs": [],
   "source": [
    "# Access Manually Identified Bowties\n",
    "# os.chdir(\"..\")\n",
    "os.chdir(\"./Manually Identified Bowties/\") \n",
    "\n",
    "l0bowtie = [k for k in os.listdir() if '_0.npy' in k] # create a list with all 0 degree images from manually identified bowties\n",
    "l45bowtie = [k for k in os.listdir() if '_45.npy' in k] # create a list with all 45 degree images from manually identified bowties\n",
    "\n",
    "# Access Manually Identified Other\n",
    "os.chdir(\"..\")\n",
    "os.chdir(\"./Manually Identified Other/\") \n",
    "\n",
    "l0other = [k for k in os.listdir() if '_0.npy' in k] # create a list with all 0 degree images from manually identified other\n",
    "l45other = [k for k in os.listdir() if '_45.npy' in k] # create a list with all 45 degree images from manually identified other"
   ]
  },
  {
   "cell_type": "code",
   "execution_count": null,
   "metadata": {},
   "outputs": [],
   "source": [
    "def calculate_target_size(img_size: int, kernel_size: int) -> int:\n",
    "    num_pixels = 0\n",
    "    \n",
    "    # From 0 up to img size (if img size = 224, then up to 223)\n",
    "    for i in range(img_size):\n",
    "        # Add the kernel size (let's say 3) to the current i\n",
    "        added = i + kernel_size\n",
    "        # It must be lower than the image size\n",
    "        if added <= img_size:\n",
    "            # Increment if so\n",
    "            num_pixels += 1\n",
    "            \n",
    "    return num_pixels"
   ]
  },
  {
   "cell_type": "code",
   "execution_count": null,
   "metadata": {},
   "outputs": [],
   "source": [
    "def convolve(img: np.array, kernel: np.array) -> np.array:\n",
    "    try:\n",
    "        # Assuming a rectangular image\n",
    "        tgt_size = calculate_target_size(\n",
    "            img_size=img.shape[0],\n",
    "            kernel_size=kernel.shape[0]\n",
    "        )\n",
    "        # To simplify things\n",
    "        k = kernel.shape[0]\n",
    "        \n",
    "        # 2D array of zeros\n",
    "        convolved_img = np.zeros(shape=(tgt_size, tgt_size))\n",
    "        \n",
    "        # Iterate over the rows\n",
    "        for i in range(tgt_size):\n",
    "            # Iterate over the columns\n",
    "            for j in range(tgt_size):\n",
    "                # img[i, j] = individual pixel value\n",
    "                # Get the current matrix\n",
    "                mat = img[i:i+k, j:j+k]\n",
    "                \n",
    "                # Apply the convolution - element-wise multiplication and summation of the result\n",
    "                # Store the result to i-th row and j-th column of our convolved_img array\n",
    "                convolved_img[i, j] = np.sum(np.multiply(mat, kernel))\n",
    "\n",
    "    except ValueError:  # raised if file is empty.\n",
    "        pass\n",
    "            \n",
    "    return convolved_img"
   ]
  },
  {
   "cell_type": "code",
   "execution_count": 126,
   "metadata": {},
   "outputs": [
    {
     "name": "stdout",
     "output_type": "stream",
     "text": [
      "(27, 27)\n",
      "hey this isn't working!!!\n",
      "(34, 34)\n",
      "hey this isn't working!!!\n",
      "(36, 36)\n",
      "hey this isn't working!!!\n",
      "(36, 36)\n",
      "hey this isn't working!!!\n",
      "(33, 33)\n",
      "hey this isn't working!!!\n",
      "(22, 22)\n",
      "hey this isn't working!!!\n",
      "(34, 34)\n",
      "hey this isn't working!!!\n",
      "(0, 0)\n",
      "hey this isn't working!!!\n",
      "(35, 35)\n",
      "hey this isn't working!!!\n",
      "(0, 0)\n",
      "hey this isn't working!!!\n",
      "(0, 0)\n",
      "hey this isn't working!!!\n",
      "(29, 29)\n",
      "hey this isn't working!!!\n",
      "(0, 0)\n",
      "hey this isn't working!!!\n",
      "(0, 0)\n",
      "hey this isn't working!!!\n",
      "(37, 37)\n",
      "hey this isn't working!!!\n",
      "(35, 35)\n",
      "hey this isn't working!!!\n",
      "(0, 0)\n",
      "hey this isn't working!!!\n",
      "(0, 0)\n",
      "hey this isn't working!!!\n",
      "(24, 24)\n",
      "hey this isn't working!!!\n",
      "(22, 22)\n",
      "hey this isn't working!!!\n",
      "(0, 0)\n",
      "hey this isn't working!!!\n",
      "(0, 0)\n",
      "hey this isn't working!!!\n",
      "(35, 35)\n",
      "hey this isn't working!!!\n",
      "(36, 36)\n",
      "hey this isn't working!!!\n",
      "(32, 32)\n",
      "hey this isn't working!!!\n",
      "(0, 0)\n",
      "hey this isn't working!!!\n",
      "(0, 0)\n",
      "hey this isn't working!!!\n"
     ]
    }
   ],
   "source": [
    "customKernel = np.array([[ -1, -1, -1], [-1, 11, -1], [-1, -1, -1]])\n",
    "\n",
    "os.chdir(\"..\")\n",
    "os.chdir(\"./Manually Identified Bowties/\") \n",
    "\n",
    "var = 38 # if convolved image, change to 38 (otherwise, leave at 40)\n",
    "\n",
    "l0b = np.empty([int(len(l0bowtie)), var*var])\n",
    "\n",
    "for i in range(0, len(l0bowtie)):\n",
    "    newArray = np.load(l0bowtie[i])\n",
    "    newArray = convolve(img=newArray, kernel=customKernel) # apply the image filter (comment out to omit filtering)\n",
    "\n",
    "    if newArray.shape == (var, var):\n",
    "        l0b[i] = np.reshape(newArray, (1, var*var)) # flatten image into 1 x len(image)*height(image)\n",
    "\n",
    "    else:\n",
    "        print(newArray.shape)\n",
    "        print(\"hey this isn't working!!!\")\n",
    "\n",
    "l45b = np.empty([int(len(l45bowtie)), var*var])\n",
    "\n",
    "for i in range(0, len(l45bowtie)):\n",
    "    newArray = np.load(l45bowtie[i])\n",
    "    newArray = convolve(img=newArray, kernel=customKernel) # apply the image filter (comment out to omit filtering)\n",
    "\n",
    "    if newArray.shape == (var, var):\n",
    "        l45b[i] = np.reshape(newArray, (1, var*var)) # flatten image into 1 x len(image)*height(image)\n",
    "\n",
    "os.chdir(\"..\")\n",
    "os.chdir(\"./Manually Identified Other/\") \n",
    "\n",
    "l0o = np.empty([int(len(l0other)), var*var])\n",
    "\n",
    "for i in range(0, len(l0other)):\n",
    "    newArray = np.load(l0other[i])\n",
    "    newArray = convolve(img=newArray, kernel=customKernel) # apply the image filter (comment out to omit filtering)\n",
    "\n",
    "    if newArray.shape == (var, var):\n",
    "        l0o[i] = np.reshape(newArray, (1, var*var)) # flatten image into 1 x len(image)*height(image)\n",
    "\n",
    "l45o = np.empty([int(len(l45other)), var*var])\n",
    "\n",
    "for i in range(0, len(l45other)):\n",
    "    newArray = np.load(l45other[i])\n",
    "    newArray = convolve(img=newArray, kernel=customKernel) # apply the image filter (comment out to omit filtering)\n",
    "\n",
    "    if newArray.shape == (var, var):\n",
    "        l45o[i] = np.reshape(newArray, (1, var*var)) # flatten image into 1 x len(image)*height(image)"
   ]
  },
  {
   "cell_type": "code",
   "execution_count": 150,
   "metadata": {},
   "outputs": [
    {
     "name": "stdout",
     "output_type": "stream",
     "text": [
      "          0          1          2          3          4          5     \\\n",
      "0   -43.288408 -48.474809  -3.242026 -51.848498 -75.157456 -50.432620   \n",
      "1   -61.864498 -36.587410 -10.298238 -14.179301  20.187073  41.401839   \n",
      "2   -53.098400   3.211612 -16.350279 -35.919412 -58.165689 -17.859879   \n",
      "3   -36.796724 -84.873798 -70.281128 -64.179331 -47.451969 -28.840011   \n",
      "4    21.744291  -9.768626 -38.825109 -16.886737 -34.383092 -57.466771   \n",
      "..         ...        ...        ...        ...        ...        ...   \n",
      "513 -19.778164  32.054708   0.290724 -76.292590 -29.145617   8.480458   \n",
      "514  14.806618 -22.245283 -43.323221 -45.378864  -5.235152 -13.293136   \n",
      "515 -32.936412 -62.672152 -69.088479 -37.474972 -29.084273 -22.811716   \n",
      "516 -35.141788 -31.716153  25.007642 -48.390560 -38.029075 -48.843775   \n",
      "517 -81.026193 -88.632524 -45.310388 -10.433065 -33.884148 -36.715865   \n",
      "\n",
      "          6          7           8          9     ...       1435       1436  \\\n",
      "0   -38.400576 -41.291376  -44.461016 -53.317803  ...  -8.528482 -45.571472   \n",
      "1    21.798277 -13.994950   30.260048  -2.297472  ... -33.421900 -25.203485   \n",
      "2   -41.015357 -43.542098 -116.799027  -9.675128  ... -63.394906 -25.325832   \n",
      "3   -29.547808 -60.165778  -25.367824  71.106663  ... -10.710728 -60.666552   \n",
      "4   -52.738766 -47.787256  -50.734625 -10.883840  ... -56.432043 -17.874299   \n",
      "..         ...        ...         ...        ...  ...        ...        ...   \n",
      "513  -3.639976 -11.279501  -27.251640  20.020208  ...   9.609106   0.184810   \n",
      "514  10.961655  -0.344343   -1.615996  -3.643705  ...  -0.530565 -41.418612   \n",
      "515 -61.995570 -32.439796   -7.294826   6.993780  ... -47.310705 -23.913848   \n",
      "516 -30.052948 -88.998508   -0.728477 -59.704265  ... -32.887890 -62.021782   \n",
      "517  15.902544 -56.672985 -107.040836 -41.579977  ... -16.576999 -43.154474   \n",
      "\n",
      "          1437       1438       1439       1440       1441       1442  \\\n",
      "0   -39.222669  15.278033 -24.479187 -41.621111 -51.046892 -71.748795   \n",
      "1   -11.058400 -91.012160 -14.397979  -8.979247 -48.246379   1.246139   \n",
      "2   -42.185160 -28.821179 -78.420478 -17.875048 -29.463366 -44.985912   \n",
      "3    14.502456 -14.495670 -32.503281 -31.886966 -68.098817 -25.428749   \n",
      "4   -14.115985 -14.306099 -40.880320  -8.793498   7.528437 -22.262572   \n",
      "..         ...        ...        ...        ...        ...        ...   \n",
      "513 -38.059356 -13.295424 -28.013600 -53.270575 -12.395210  -7.336888   \n",
      "514  19.702105 -10.812015 -46.337223   3.375927 -12.803017  44.168078   \n",
      "515 -45.401165 -26.800623 -30.280465 -24.390077 -11.508779 -33.989942   \n",
      "516   3.882300  -4.345822  -7.665758 -14.150419 -21.089158 -25.471529   \n",
      "517 -82.709921 -46.602334  -5.472642 -41.906801 -64.291044 -33.042863   \n",
      "\n",
      "          1443  1444  \n",
      "0   -57.819916   0.0  \n",
      "1    32.939575   0.0  \n",
      "2   -29.994555   0.0  \n",
      "3    -5.419070   0.0  \n",
      "4   -11.448003   0.0  \n",
      "..         ...   ...  \n",
      "513   0.787287   0.0  \n",
      "514  -5.885935   0.0  \n",
      "515  10.142928   0.0  \n",
      "516 -35.112788   0.0  \n",
      "517 -30.709972   0.0  \n",
      "\n",
      "[518 rows x 1445 columns]\n"
     ]
    }
   ],
   "source": [
    "lst1 = []\n",
    "lst2 = []\n",
    "lst3 = []\n",
    "lst4 = []\n",
    "\n",
    "for i in range(0, len(l0b)):\n",
    "    something = np.append(l0b[i], 1) # for bowtie data, append 1 to the end of the array\n",
    "    lst1.append(something)\n",
    "\n",
    "for i in range(0, len(l45b)):\n",
    "    something = np.append(l45b[i], 1) # for bowtie data, append 1 to the end of the array\n",
    "    lst2.append(something)\n",
    "\n",
    "for i in range(0, len(l0o)):\n",
    "    something = np.append(l0o[i], 0) # for other data, append 0 to the end of the array\n",
    "    lst3.append(something)\n",
    "\n",
    "for i in range(0, len(l45o)):\n",
    "    something = np.append(l45o[i], 0) # for other data, append 0 to the end of the array\n",
    "    lst4.append(something)\n",
    "\n",
    "# convert numpy arrays to pandas dataframes\n",
    "df1B = pd.DataFrame(lst1)\n",
    "df2B = pd.DataFrame(lst2)\n",
    "df3O = pd.DataFrame(lst3)\n",
    "df4O = pd.DataFrame(lst4)\n",
    "\n",
    "print(df3O)"
   ]
  },
  {
   "cell_type": "code",
   "execution_count": 181,
   "metadata": {},
   "outputs": [
    {
     "name": "stdout",
     "output_type": "stream",
     "text": [
      "<class 'pandas.core.frame.DataFrame'>\n",
      "It contains 0 nan values\n"
     ]
    }
   ],
   "source": [
    "## SHUFFLE DATA\n",
    "np.random.seed(0) \n",
    "idx = np.random.permutation(df1B.index)\n",
    "df1 = df1B.reindex(idx)\n",
    "df2 = df2B.reindex(idx)\n",
    "df3 = df3O.reindex(idx)\n",
    "df4 = df4O.reindex(idx)\n",
    "\n",
    "# fill all NaN values with 0\n",
    "df3 = df3.fillna(0)\n",
    "df4 = df4.fillna(0)\n",
    "\n",
    "print(type(df3))\n",
    "\n",
    "count = df3.isnull().values.any().sum()\n",
    "print(\"It contains \" + str(count) + \" nan values\")"
   ]
  },
  {
   "cell_type": "code",
   "execution_count": 182,
   "metadata": {},
   "outputs": [],
   "source": [
    "## ALL\n",
    "# xtrain = pd.concat([df1.iloc[0:416, 0:var*var], df2.iloc[0:416, 0:var*var], df3.iloc[0:416, 0:var*var], df4.iloc[0:416, 0:var*var]])\n",
    "\n",
    "## 0 DEGREES\n",
    "xtrain = pd.concat([df1.iloc[0:416, 0:var*var], df3.iloc[0:416, 0:var*var]])\n",
    "\n",
    "## 45 DEGREES\n",
    "# xtrain = pd.concat([df2.iloc[0:416, 0:var*var], df4.iloc[0:416, 0:var*var]])\n",
    "\n",
    "# print(xtrain)\n",
    "\n",
    "## ALL\n",
    "# ytrain = pd.concat([df1.iloc[0:416, var*var:var*var+1], df2.iloc[0:416, var*var:var*var+1], df3.iloc[0:416, var*var:var*var+1], df4.iloc[0:416, var*var:var*var+1]])\n",
    "\n",
    "## 0 DEGREES\n",
    "ytrain = pd.concat([df1.iloc[0:416, var*var:var*var+1], df3.iloc[0:416, var*var:var*var+1]])\n",
    "\n",
    "## 45 DEGREES\n",
    "# ytrain = pd.concat([df2.iloc[0:416, var*var:var*var+1], df4.iloc[0:416, var*var:var*var+1]])\n",
    "\n",
    "# print(ytrain)\n",
    "\n",
    "## ALL\n",
    "# xtest = pd.concat([df1.iloc[416:520, 0:var*var], df2.iloc[416:520, 0:var*var], df3.iloc[416:520, 0:var*var], df4.iloc[416:520, 0:var*var]])\n",
    "# ytest = pd.concat([df1.iloc[416:520, var*var:var*var+1], df2.iloc[416:520, var*var:var*var+1], df3.iloc[416:520, var*var:var*var+1], df4.iloc[416:520, var*var:var*var+1]])\n",
    "\n",
    "## 0 DEGREES\n",
    "xtest = pd.concat([df1.iloc[416:520, 0:var*var], df3.iloc[416:520, 0:var*var]])\n",
    "ytest = pd.concat([df1.iloc[416:520, var*var:var*var+1], df3.iloc[416:520, var*var:var*var+1]])\n",
    "\n",
    "## 45 DEGREES\n",
    "# xtest = pd.concat([df2.iloc[416:520, 0:var*var], df4.iloc[416:520, 0:var*var]])\n",
    "# ytest = pd.concat([df2.iloc[416:520, var*var:var*var+1], df4.iloc[416:520, var*var:var*var+1]])"
   ]
  },
  {
   "cell_type": "code",
   "execution_count": 133,
   "metadata": {},
   "outputs": [
    {
     "name": "stderr",
     "output_type": "stream",
     "text": [
      "c:\\Users\\aaris\\AppData\\Local\\Programs\\Python\\Python37\\lib\\site-packages\\sklearn\\utils\\validation.py:993: DataConversionWarning: A column-vector y was passed when a 1d array was expected. Please change the shape of y to (n_samples, ), for example using ravel().\n",
      "  y = column_or_1d(y, warn=True)\n",
      "c:\\Users\\aaris\\AppData\\Local\\Programs\\Python\\Python37\\lib\\site-packages\\sklearn\\utils\\validation.py:993: DataConversionWarning: A column-vector y was passed when a 1d array was expected. Please change the shape of y to (n_samples, ), for example using ravel().\n",
      "  y = column_or_1d(y, warn=True)\n",
      "c:\\Users\\aaris\\AppData\\Local\\Programs\\Python\\Python37\\lib\\site-packages\\sklearn\\discriminant_analysis.py:878: UserWarning: Variables are collinear\n",
      "  warnings.warn(\"Variables are collinear\")\n",
      "c:\\Users\\aaris\\AppData\\Local\\Programs\\Python\\Python37\\lib\\site-packages\\sklearn\\utils\\deprecation.py:87: FutureWarning: Function plot_confusion_matrix is deprecated; Function `plot_confusion_matrix` is deprecated in 1.0 and will be removed in 1.2. Use one of the class methods: ConfusionMatrixDisplay.from_predictions or ConfusionMatrixDisplay.from_estimator.\n",
      "  warnings.warn(msg, category=FutureWarning)\n"
     ]
    },
    {
     "data": {
      "image/png": "[encoded data removed]",
      "text/plain": [
       "<Figure size 800x600 with 2 Axes>"
      ]
     },
     "metadata": {},
     "output_type": "display_data"
    },
    {
     "name": "stdout",
     "output_type": "stream",
     "text": [
      "0.7932692307692307\n"
     ]
    },
    {
     "name": "stderr",
     "output_type": "stream",
     "text": [
      "c:\\Users\\aaris\\AppData\\Local\\Programs\\Python\\Python37\\lib\\site-packages\\sklearn\\utils\\deprecation.py:87: FutureWarning: Function plot_confusion_matrix is deprecated; Function `plot_confusion_matrix` is deprecated in 1.0 and will be removed in 1.2. Use one of the class methods: ConfusionMatrixDisplay.from_predictions or ConfusionMatrixDisplay.from_estimator.\n",
      "  warnings.warn(msg, category=FutureWarning)\n"
     ]
    },
    {
     "data": {
      "image/png": "[encoded data removed]",
      "text/plain": [
       "<Figure size 800x600 with 2 Axes>"
      ]
     },
     "metadata": {},
     "output_type": "display_data"
    },
    {
     "name": "stdout",
     "output_type": "stream",
     "text": [
      "0.5240384615384616\n"
     ]
    }
   ],
   "source": [
    "from sklearn.discriminant_analysis import LinearDiscriminantAnalysis\n",
    "from sklearn.discriminant_analysis import QuadraticDiscriminantAnalysis\n",
    "from sklearn.metrics import accuracy_score\n",
    "from sklearn.metrics import plot_confusion_matrix\n",
    "\n",
    "# Build LDA and QDA\n",
    "LDA = LinearDiscriminantAnalysis()\n",
    "QDA = QuadraticDiscriminantAnalysis()\n",
    "\n",
    "# Fit the model\n",
    "LDA.fit(xtrain, ytrain)\n",
    "QDA.fit(xtrain, ytrain)\n",
    "\n",
    "# Confusion matrix of LDA\n",
    "plot_confusion_matrix(LDA, xtest, ytest)\n",
    "plt.show()\n",
    "print(accuracy_score(LDA.predict(xtest), ytest))\n",
    "\n",
    "# Confusion matrix of QDA\n",
    "plot_confusion_matrix(QDA, xtest, ytest)\n",
    "plt.show()\n",
    "print(accuracy_score(QDA.predict(xtest), ytest))"
   ]
  },
  {
   "cell_type": "code",
   "execution_count": 183,
   "metadata": {},
   "outputs": [
    {
     "name": "stderr",
     "output_type": "stream",
     "text": [
      "c:\\Users\\aaris\\AppData\\Local\\Programs\\Python\\Python37\\lib\\site-packages\\sklearn\\utils\\validation.py:993: DataConversionWarning: A column-vector y was passed when a 1d array was expected. Please change the shape of y to (n_samples, ), for example using ravel().\n",
      "  y = column_or_1d(y, warn=True)\n",
      "c:\\Users\\aaris\\AppData\\Local\\Programs\\Python\\Python37\\lib\\site-packages\\sklearn\\utils\\deprecation.py:87: FutureWarning: Function plot_confusion_matrix is deprecated; Function `plot_confusion_matrix` is deprecated in 1.0 and will be removed in 1.2. Use one of the class methods: ConfusionMatrixDisplay.from_predictions or ConfusionMatrixDisplay.from_estimator.\n",
      "  warnings.warn(msg, category=FutureWarning)\n"
     ]
    },
    {
     "data": {
      "image/png": "[encoded data removed]",
      "text/plain": [
       "<Figure size 800x600 with 2 Axes>"
      ]
     },
     "metadata": {},
     "output_type": "display_data"
    },
    {
     "name": "stdout",
     "output_type": "stream",
     "text": [
      "0.9471153846153846\n"
     ]
    }
   ],
   "source": [
    "from sklearn.svm import SVC\n",
    "\n",
    "SVM = SVC(kernel=\"rbf\") # Modified the kernel to see the difference\n",
    "\n",
    "SVM.fit(xtrain, ytrain)\n",
    "\n",
    "plot_confusion_matrix(SVM, xtest, ytest)\n",
    "plt.show()\n",
    "print(accuracy_score(SVM.predict(xtest), ytest))"
   ]
  },
  {
   "cell_type": "code",
   "execution_count": 135,
   "metadata": {},
   "outputs": [
    {
     "name": "stderr",
     "output_type": "stream",
     "text": [
      "c:\\Users\\aaris\\AppData\\Local\\Programs\\Python\\Python37\\lib\\site-packages\\sklearn\\neighbors\\_classification.py:198: DataConversionWarning: A column-vector y was passed when a 1d array was expected. Please change the shape of y to (n_samples,), for example using ravel().\n",
      "  return self._fit(X, y)\n",
      "c:\\Users\\aaris\\AppData\\Local\\Programs\\Python\\Python37\\lib\\site-packages\\sklearn\\utils\\deprecation.py:87: FutureWarning: Function plot_confusion_matrix is deprecated; Function `plot_confusion_matrix` is deprecated in 1.0 and will be removed in 1.2. Use one of the class methods: ConfusionMatrixDisplay.from_predictions or ConfusionMatrixDisplay.from_estimator.\n",
      "  warnings.warn(msg, category=FutureWarning)\n"
     ]
    },
    {
     "data": {
      "image/png": "[encoded data removed]",
      "text/plain": [
       "<Figure size 800x600 with 2 Axes>"
      ]
     },
     "metadata": {},
     "output_type": "display_data"
    },
    {
     "name": "stdout",
     "output_type": "stream",
     "text": [
      "0.5384615384615384\n"
     ]
    }
   ],
   "source": [
    "from sklearn.neighbors import KNeighborsClassifier\n",
    "\n",
    "KNN = KNeighborsClassifier(n_neighbors=5) # Modified the K to see the difference\n",
    "\n",
    "KNN.fit(xtrain, ytrain)\n",
    "\n",
    "plot_confusion_matrix(KNN, xtest, ytest)\n",
    "plt.show()\n",
    "print(accuracy_score(KNN.predict(xtest), ytest))\n"
   ]
  }
 ],
 "metadata": {
  "kernelspec": {
   "display_name": "Python 3",
   "language": "python",
   "name": "python3"
  },
  "language_info": {
   "codemirror_mode": {
    "name": "ipython",
    "version": 3
   },
   "file_extension": ".py",
   "mimetype": "text/x-python",
   "name": "python",
   "nbconvert_exporter": "python",
   "pygments_lexer": "ipython3",
   "version": "3.7.0"
  },
  "orig_nbformat": 4,
  "vscode": {
   "interpreter": {
    "hash": "81af19a19d6cb113ed37e4965a0bda39104e0aa754cd78de77b62e483bacdde2"
   }
  }
 },
 "nbformat": 4,
 "nbformat_minor": 2
}
